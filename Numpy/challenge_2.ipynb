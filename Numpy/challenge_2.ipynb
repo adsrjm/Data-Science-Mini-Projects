{
 "cells": [
  {
   "cell_type": "markdown",
   "metadata": {},
   "source": [
    "# Challenge 2\n",
    "\n",
    "# 1. Find the size, the shape, and the number of dimension of the following array:\n",
    "\n",
    "a. [[[[2,3,4],[7.8.9]],[[2,3,4],[7.8.9]]]]\n",
    "\n",
    "b. [[[2,3,4]],[[7.8.9]]]\n",
    "\n",
    "c. [[[[[2.0,4.6],[2.0,4.6],[2.0,4.6]],[[2.0,4.6],[2.0,4.6],[2.0,4.6]]]]]"
   ]
  },
  {
   "cell_type": "code",
   "execution_count": 8,
   "metadata": {},
   "outputs": [
    {
     "name": "stdout",
     "output_type": "stream",
     "text": [
      "a ----- size :  12 \t shape :  (1, 2, 2, 3) \t dimension :  4 \n",
      "   [[[[2. 3. 4.]\n",
      "   [7. 8. 9.]]\n",
      "\n",
      "  [[2. 3. 4.]\n",
      "   [7. 8. 9.]]]] \n",
      "  \n",
      "b ----- size :  6 \t shape :  (2, 1, 3) \t dimension :  3 \n",
      "   [[[2 3 4]]\n",
      "\n",
      " [[7 8 9]]] \n",
      "  \n",
      "c ----- size :  12 \t shape :  (1, 1, 2, 3, 2) \t dimension :  5 \n",
      "   [[[[[2.  4.6]\n",
      "    [2.  4.6]\n",
      "    [2.  4.6]]\n",
      "\n",
      "   [[2.  4.6]\n",
      "    [2.  4.6]\n",
      "    [2.  4.6]]]]] \n",
      "  \n"
     ]
    }
   ],
   "source": [
    "import numpy as np\n",
    "a = np.array([[[[2,3,4],[7,8,9]],[[2,3,4],[7,8.,9]]]])\n",
    "b = np.array([[[2,3,4]],[[7,8,9]]])\n",
    "c = np.array([[[[[2.0,4.6],[2.0,4.6],[2.0,4.6]],[[2.0,4.6],[2.0,4.6],[2.0,4.6]]]]])\n",
    "\n",
    "print(\"a ----- size : \", a.size, \"\\t shape : \", a.shape, \"\\t dimension : \", a.ndim, \"\\n  \", a, \"\\n  \")\n",
    "print(\"b ----- size : \", b.size, \"\\t shape : \", b.shape, \"\\t dimension : \", b.ndim, \"\\n  \", b, \"\\n  \")\n",
    "print(\"c ----- size : \", c.size, \"\\t shape : \", c.shape, \"\\t dimension : \", c.ndim, \"\\n  \", c, \"\\n  \")\n",
    "\n"
   ]
  },
  {
   "cell_type": "markdown",
   "metadata": {},
   "source": [
    "# 2. Create the following arrays:\n",
    "\n",
    "a. 3-D array of three 2 by 2 innermost array with zero values\n",
    "\n",
    "b. 4-D array of three 2 by 2 innermost array with zero values\n",
    "\n",
    "c. 3-D  array of one 2 by 5 innermost array with the value of one throughout\n",
    "\n",
    "d. 4-D array of two 3 by 3 innermost array with the value of one throughout\n",
    "\n",
    "e. 5-D array of two 2 by 2 innermost array with the value of one throughout\n",
    "\n",
    "f. 8-D array of four 2 by 2 innermost with the value of one throughout"
   ]
  },
  {
   "cell_type": "code",
   "execution_count": 20,
   "metadata": {},
   "outputs": [
    {
     "name": "stdout",
     "output_type": "stream",
     "text": [
      "a = 3-D array of three 2 by 2 innermost array with zero values\n",
      "[[[0. 0.]\n",
      "  [0. 0.]]\n",
      "\n",
      " [[0. 0.]\n",
      "  [0. 0.]]\n",
      "\n",
      " [[0. 0.]\n",
      "  [0. 0.]]] \n",
      "\n",
      "b = 4-D array of three 2 by 2 innermost array with zero values\n",
      "[[[[0. 0.]\n",
      "   [0. 0.]]\n",
      "\n",
      "  [[0. 0.]\n",
      "   [0. 0.]]\n",
      "\n",
      "  [[0. 0.]\n",
      "   [0. 0.]]]] \n",
      "\n",
      "c = 3-D  array of one 2 by 5 innermost array with the value of one throughout\n",
      "[[[1. 1. 1. 1. 1.]\n",
      "  [1. 1. 1. 1. 1.]]] \n",
      "\n",
      "d = 4-D array of two 3 by 3 innermost array with the value of one throughout\n",
      "[[[[1. 1. 1.]\n",
      "   [1. 1. 1.]\n",
      "   [1. 1. 1.]]\n",
      "\n",
      "  [[1. 1. 1.]\n",
      "   [1. 1. 1.]\n",
      "   [1. 1. 1.]]]] \n",
      "\n",
      "e = 5-D array of two 2 by 2 innermost array with the value of one throughout\n",
      "[[[[[1. 1.]\n",
      "    [1. 1.]]\n",
      "\n",
      "   [[1. 1.]\n",
      "    [1. 1.]]]]] \n",
      "\n",
      "f = 8-D array of four 2 by 2 innermost with the value of one throughout\n",
      "[[[[[[[[1. 1.]\n",
      "       [1. 1.]]\n",
      "\n",
      "      [[1. 1.]\n",
      "       [1. 1.]]\n",
      "\n",
      "      [[1. 1.]\n",
      "       [1. 1.]]\n",
      "\n",
      "      [[1. 1.]\n",
      "       [1. 1.]]]]]]]] \n",
      "\n"
     ]
    }
   ],
   "source": [
    "print(\"a = 3-D array of three 2 by 2 innermost array with zero values\")\n",
    "a = np.zeros((3,2,2))\n",
    "print(a,\"\\n\")\n",
    "\n",
    "print(\"b = 4-D array of three 2 by 2 innermost array with zero values\")\n",
    "b = np.zeros((1,3,2,2))\n",
    "print(b,\"\\n\")\n",
    "\n",
    "print(\"c = 3-D  array of one 2 by 5 innermost array with the value of one throughout\")\n",
    "c =np.ones((1,2,5))\n",
    "print(c,\"\\n\")\n",
    "\n",
    "print(\"d = 4-D array of two 3 by 3 innermost array with the value of one throughout\")\n",
    "d = np.ones((1,2,3,3))\n",
    "print(d,\"\\n\")\n",
    "\n",
    "print(\"e = 5-D array of two 2 by 2 innermost array with the value of one throughout\")\n",
    "e=np.ones((1,1,2,2,2))\n",
    "print(e,\"\\n\")\n",
    "\n",
    "print(\"f = 8-D array of four 2 by 2 innermost with the value of one throughout\")\n",
    "f= np.ones((1,1,1,1,1,4,2,2))\n",
    "print(f,\"\\n\")"
   ]
  },
  {
   "cell_type": "markdown",
   "metadata": {},
   "source": [
    "# 3. Create a 1D arary with values from 100 to 200 with a step of 10"
   ]
  },
  {
   "cell_type": "code",
   "execution_count": 24,
   "metadata": {},
   "outputs": [
    {
     "data": {
      "text/plain": [
       "array([100, 110, 120, 130, 140, 150, 160, 170, 180, 190])"
      ]
     },
     "execution_count": 24,
     "metadata": {},
     "output_type": "execute_result"
    }
   ],
   "source": [
    "x = np.arange(100, 200, 10)\n",
    "x"
   ]
  },
  {
   "cell_type": "markdown",
   "metadata": {},
   "source": [
    "# 4. Create a 1D array with 5 values from 5 to 25"
   ]
  },
  {
   "cell_type": "code",
   "execution_count": 30,
   "metadata": {},
   "outputs": [
    {
     "name": "stdout",
     "output_type": "stream",
     "text": [
      "[ 5. 10. 15. 20. 25.] \n",
      " or\n",
      "\n",
      "[[ 5.]\n",
      " [10.]\n",
      " [15.]\n",
      " [20.]\n",
      " [25.]]\n"
     ]
    }
   ],
   "source": [
    "y = np.linspace(5, 25, num=5)\n",
    "print(y,\"\\n or\\n\")\n",
    "print (y.reshape(5,1))\n"
   ]
  }
 ],
 "metadata": {
  "kernelspec": {
   "display_name": "base",
   "language": "python",
   "name": "python3"
  },
  "language_info": {
   "codemirror_mode": {
    "name": "ipython",
    "version": 3
   },
   "file_extension": ".py",
   "mimetype": "text/x-python",
   "name": "python",
   "nbconvert_exporter": "python",
   "pygments_lexer": "ipython3",
   "version": "3.12.7"
  }
 },
 "nbformat": 4,
 "nbformat_minor": 2
}
