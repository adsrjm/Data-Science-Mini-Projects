{
 "cells": [
  {
   "cell_type": "markdown",
   "metadata": {},
   "source": [
    "# Challenge 1\n",
    "\n",
    "# 1. Look at the following and describe the type of array each will create before running the code.\n",
    "\n",
    "\n",
    "\n",
    "a = np.array([3,6,7,8,9])\n",
    "\n",
    "b = np.array([[7,8,9,3],[4,6,7,8]])\n",
    "\n",
    "c = np.array([[[[7,8,9,3],[4,6,7,8]]]])\n",
    "\n",
    "d = np.array([[[7,8,9,3],[4,6,7,8]], [[2,1,3,6],[1,7,9,10]]])\n",
    "\n",
    "e = np.array([[7,8,9,3],[4,6,7,8],[2,1,3,6],[1,7,9,10]])"
   ]
  },
  {
   "cell_type": "code",
   "execution_count": 1,
   "metadata": {},
   "outputs": [
    {
     "name": "stdout",
     "output_type": "stream",
     "text": [
      "Dimension de a :  1  \n",
      "  [3 6 7 8 9] \n",
      " \n",
      "Dimension de b :  2  \n",
      "  [[7 8 9 3]\n",
      " [4 6 7 8]] \n",
      " \n",
      "Dimension de c :  4  \n",
      "  [[[[7 8 9 3]\n",
      "   [4 6 7 8]]]] \n",
      " \n",
      "Dimension de d :  3  \n",
      "  [[[ 7  8  9  3]\n",
      "  [ 4  6  7  8]]\n",
      "\n",
      " [[ 2  1  3  6]\n",
      "  [ 1  7  9 10]]] \n",
      " \n",
      "Dimension de e:  2  \n",
      "  [[ 7  8  9  3]\n",
      " [ 4  6  7  8]\n",
      " [ 2  1  3  6]\n",
      " [ 1  7  9 10]] \n",
      " \n"
     ]
    }
   ],
   "source": [
    "import numpy as np\n",
    "a = np.array([3,6,7,8,9])\n",
    "b = np.array([[7,8,9,3],[4,6,7,8]])\n",
    "c = np.array([[[[7,8,9,3],[4,6,7,8]]]])\n",
    "d = np.array([[[7,8,9,3],[4,6,7,8]], [[2,1,3,6],[1,7,9,10]]])\n",
    "e = np.array([[7,8,9,3],[4,6,7,8],[2,1,3,6],[1,7,9,10]])\n",
    "\n",
    "print(\"Dimension de a : \",a.ndim,  \" \\n \", a,  \"\\n \")\n",
    "print(\"Dimension de b : \",b.ndim,  \" \\n \", b, \"\\n \")\n",
    "print(\"Dimension de c : \",c.ndim,  \" \\n \", c, \"\\n \")\n",
    "print(\"Dimension de d : \",d.ndim,  \" \\n \", d, \"\\n \")\n",
    "print(\"Dimension de e: \",e.ndim,  \" \\n \", e, \"\\n \")\n"
   ]
  },
  {
   "cell_type": "markdown",
   "metadata": {},
   "source": [
    "# 2. Using 4,6,7,8,2 help create the following (repetition of data is allowed):\n",
    "\n",
    "\n",
    "\n",
    "a. 1-D array\n",
    "\n",
    "b. 2-D array\n",
    "\n",
    "c. 2-D array with three 2-D array\n",
    "\n",
    "d. 5-D array with one 1-D array\n",
    "\n",
    "e. 5-D array with two 1-D array\n",
    "\n",
    "f. 5-D array with two 3-D array"
   ]
  },
  {
   "cell_type": "code",
   "execution_count": 22,
   "metadata": {},
   "outputs": [
    {
     "name": "stdout",
     "output_type": "stream",
     "text": [
      "a = 1D array : \n",
      " [4 6 7 8 2] \n",
      "\n",
      "b = 2D array : \n",
      " [[7 8 9 2]\n",
      " [4 6 7 8]] \n",
      "\n",
      "c = 2D array with 3 2D array: IMPOSSIBLE\n",
      "\n",
      "d = 5D array with 1 1D array : \n",
      " [[[[[7 8 9 2]]]]] \n",
      "\n",
      "e = 5D array with 2 1D array : \n",
      " [[[[[7 8 9 2]\n",
      "    [7 8 9 2]]]]] \n",
      "\n",
      "f = 5D array with 2 3D array : \n",
      " [[[[[7 8 9 2]]]\n",
      "\n",
      "\n",
      "  [[[7 8 9 2]]]]] \n",
      "\n"
     ]
    }
   ],
   "source": [
    "a = np.array([4,6,7,8,2])\n",
    "print(\"a = 1D array : \\n\",a,\"\\n\")\n",
    "\n",
    "b = np.array([[7,8,9,2],[4,6,7,8]])\n",
    "print(\"b = 2D array : \\n\",b,\"\\n\")\n",
    "\n",
    "print(\"c = 2D array with 3 2D array: IMPOSSIBLE\\n\")\n",
    "\n",
    "d = np.array([[[[[7,8,9,2]]]]])\n",
    "print(\"d = 5D array with 1 1D array : \\n\",d,\"\\n\")\n",
    "\n",
    "e = np.array([[[[[7,8,9,2],[7,8,9,2]]]]])\n",
    "print(\"e = 5D array with 2 1D array : \\n\",e,\"\\n\")\n",
    "\n",
    "f = np.array([[[[[7,8,9,2]]],[[[7,8,9,2]]]]])\n",
    "print(\"f = 5D array with 2 3D array : \\n\",f,\"\\n\")"
   ]
  },
  {
   "cell_type": "code",
   "execution_count": null,
   "metadata": {},
   "outputs": [],
   "source": []
  }
 ],
 "metadata": {
  "kernelspec": {
   "display_name": "base",
   "language": "python",
   "name": "python3"
  },
  "language_info": {
   "codemirror_mode": {
    "name": "ipython",
    "version": 3
   },
   "file_extension": ".py",
   "mimetype": "text/x-python",
   "name": "python",
   "nbconvert_exporter": "python",
   "pygments_lexer": "ipython3",
   "version": "3.12.7"
  }
 },
 "nbformat": 4,
 "nbformat_minor": 2
}
